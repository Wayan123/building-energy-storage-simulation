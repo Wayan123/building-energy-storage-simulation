{
 "cells": [
  {
   "cell_type": "markdown",
   "metadata": {},
   "source": [
    "The files processed in this notebook were obtained from [https://github.com/intelligent-environments-lab/CityLearn](https://github.com/intelligent-environments-lab/CityLearn)"
   ]
  },
  {
   "cell_type": "code",
   "execution_count": null,
   "metadata": {},
   "outputs": [],
   "source": [
    "import pandas as pd"
   ]
  },
  {
   "cell_type": "code",
   "execution_count": null,
   "metadata": {},
   "outputs": [],
   "source": [
    "building_load_profile = pd.read_csv('raw/Building_1.csv')\n",
    "building_load_profile['Load [kWh]'] = building_load_profile['Equipment Electric Power [kWh]'] + building_load_profile['DHW Heating [kWh]'] + building_load_profile['Cooling Load [kWh]']\n",
    "building_load_profile = building_load_profile[['Month', 'Hour', 'Day Type', 'Load [kWh]']]"
   ]
  },
  {
   "cell_type": "code",
   "execution_count": null,
   "metadata": {},
   "outputs": [],
   "source": [
    "building_load_profile.to_csv('preprocessed/building_load_profile.csv')"
   ]
  },
  {
   "cell_type": "code",
   "execution_count": null,
   "metadata": {},
   "outputs": [],
   "source": [
    "solar_generation_profile = pd.read_csv('raw/solar_generation_1kW.csv')\n",
    "solar_generation_profile['Inverter Power (W)'] = solar_generation_profile['Hourly Data: AC inverter power (W)']\n",
    "solar_generation_profile = solar_generation_profile[['Inverter Power (W)']]"
   ]
  },
  {
   "cell_type": "code",
   "execution_count": null,
   "metadata": {},
   "outputs": [],
   "source": [
    "solar_generation_profile.to_csv('preprocessed/solar_generation_profile.csv')"
   ]
  },
  {
   "cell_type": "code",
   "execution_count": null,
   "metadata": {},
   "outputs": [],
   "source": [
    "weather_profile = pd.read_csv('raw/weather_data.csv')\n",
    "weather_profile"
   ]
  }
 ],
 "metadata": {
  "kernelspec": {
   "display_name": "building",
   "language": "python",
   "name": "building"
  },
  "language_info": {
   "codemirror_mode": {
    "name": "ipython",
    "version": 3
   },
   "file_extension": ".py",
   "mimetype": "text/x-python",
   "name": "python",
   "nbconvert_exporter": "python",
   "pygments_lexer": "ipython3",
   "version": "3.8.13"
  }
 },
 "nbformat": 4,
 "nbformat_minor": 5
}
